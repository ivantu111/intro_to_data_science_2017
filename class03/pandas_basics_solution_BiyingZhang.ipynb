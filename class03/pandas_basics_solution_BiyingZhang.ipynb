{
 "cells": [
  {
   "cell_type": "markdown",
   "metadata": {},
   "source": [
    "# Making two tables of students in the class"
   ]
  },
  {
   "cell_type": "markdown",
   "metadata": {},
   "source": [
    "## Gathering records\n",
    "Everybody submit their information in two dictionaries"
   ]
  },
  {
   "cell_type": "code",
   "execution_count": 1,
   "metadata": {
    "collapsed": true
   },
   "outputs": [],
   "source": [
    "import pandas as pd"
   ]
  },
  {
   "cell_type": "code",
   "execution_count": 5,
   "metadata": {
    "collapsed": true
   },
   "outputs": [],
   "source": [
    "# Example\n",
    "general = {\n",
    "    0:dict(name='Tian', gender='F', age='100', status='student')\n",
    "}\n",
    "# potential role include PO, SM, Dev\n",
    "study = {\n",
    "    0:dict(school='Yale', major='Immunobiology', computer_language='python, scala, java', role=None)\n",
    "}"
   ]
  },
  {
   "cell_type": "code",
   "execution_count": 6,
   "metadata": {},
   "outputs": [
    {
     "data": {
      "text/html": [
       "<div>\n",
       "<style>\n",
       "    .dataframe thead tr:only-child th {\n",
       "        text-align: right;\n",
       "    }\n",
       "\n",
       "    .dataframe thead th {\n",
       "        text-align: left;\n",
       "    }\n",
       "\n",
       "    .dataframe tbody tr th {\n",
       "        vertical-align: top;\n",
       "    }\n",
       "</style>\n",
       "<table border=\"1\" class=\"dataframe\">\n",
       "  <thead>\n",
       "    <tr style=\"text-align: right;\">\n",
       "      <th></th>\n",
       "      <th>index</th>\n",
       "      <th>age</th>\n",
       "      <th>gender</th>\n",
       "      <th>name</th>\n",
       "      <th>status</th>\n",
       "    </tr>\n",
       "  </thead>\n",
       "  <tbody>\n",
       "    <tr>\n",
       "      <th>0</th>\n",
       "      <td>0</td>\n",
       "      <td>100</td>\n",
       "      <td>F</td>\n",
       "      <td>Tian</td>\n",
       "      <td>student</td>\n",
       "    </tr>\n",
       "  </tbody>\n",
       "</table>\n",
       "</div>"
      ],
      "text/plain": [
       "   index  age gender  name   status\n",
       "0      0  100      F  Tian  student"
      ]
     },
     "execution_count": 6,
     "metadata": {},
     "output_type": "execute_result"
    }
   ],
   "source": [
    "general_tb = pd.DataFrame(general).T.reset_index()\n",
    "general_tb"
   ]
  },
  {
   "cell_type": "code",
   "execution_count": 7,
   "metadata": {
    "scrolled": true
   },
   "outputs": [
    {
     "data": {
      "text/html": [
       "<div>\n",
       "<style>\n",
       "    .dataframe thead tr:only-child th {\n",
       "        text-align: right;\n",
       "    }\n",
       "\n",
       "    .dataframe thead th {\n",
       "        text-align: left;\n",
       "    }\n",
       "\n",
       "    .dataframe tbody tr th {\n",
       "        vertical-align: top;\n",
       "    }\n",
       "</style>\n",
       "<table border=\"1\" class=\"dataframe\">\n",
       "  <thead>\n",
       "    <tr style=\"text-align: right;\">\n",
       "      <th></th>\n",
       "      <th>index</th>\n",
       "      <th>computer_language</th>\n",
       "      <th>major</th>\n",
       "      <th>role</th>\n",
       "      <th>school</th>\n",
       "    </tr>\n",
       "  </thead>\n",
       "  <tbody>\n",
       "    <tr>\n",
       "      <th>0</th>\n",
       "      <td>0</td>\n",
       "      <td>python, scala, java</td>\n",
       "      <td>Immunobiology</td>\n",
       "      <td>None</td>\n",
       "      <td>Yale</td>\n",
       "    </tr>\n",
       "  </tbody>\n",
       "</table>\n",
       "</div>"
      ],
      "text/plain": [
       "   index    computer_language          major  role school\n",
       "0      0  python, scala, java  Immunobiology  None   Yale"
      ]
     },
     "execution_count": 7,
     "metadata": {},
     "output_type": "execute_result"
    }
   ],
   "source": [
    "study_tb = pd.DataFrame(study).T.reset_index()\n",
    "study_tb"
   ]
  },
  {
   "cell_type": "markdown",
   "metadata": {},
   "source": [
    "## Select a record"
   ]
  },
  {
   "cell_type": "code",
   "execution_count": 8,
   "metadata": {},
   "outputs": [
    {
     "name": "stdout",
     "output_type": "stream",
     "text": [
      "   index  age gender  name   status\n",
      "0      0  100      F  Tian  student\n",
      "**************************************************\n",
      "0    student\n",
      "Name: status, dtype: object\n",
      "**************************************************\n",
      "0    student\n",
      "Name: status, dtype: object\n"
     ]
    },
    {
     "name": "stderr",
     "output_type": "stream",
     "text": [
      "C:\\Users\\chatc\\Anaconda3\\envs\\itds_bootcamp\\lib\\site-packages\\ipykernel_launcher.py:6: DeprecationWarning: \n",
      ".ix is deprecated. Please use\n",
      ".loc for label based indexing or\n",
      ".iloc for positional indexing\n",
      "\n",
      "See the documentation here:\n",
      "http://pandas.pydata.org/pandas-docs/stable/indexing.html#ix-indexer-is-deprecated\n",
      "  \n"
     ]
    }
   ],
   "source": [
    "# select a record\n",
    "print general_tb[general_tb['age'] > 50]\n",
    "print '*' * 50\n",
    "print general_tb[general_tb['age'] > 50]['status']\n",
    "print '*' * 50\n",
    "print general_tb.ix[general_tb['age'] > 50, 'status']"
   ]
  },
  {
   "cell_type": "markdown",
   "metadata": {},
   "source": [
    "## Change a value of a record"
   ]
  },
  {
   "cell_type": "code",
   "execution_count": 9,
   "metadata": {
    "collapsed": true
   },
   "outputs": [],
   "source": [
    "general_tb.ix[general_tb['age'] > 50, 'status'] = 'instructor'"
   ]
  },
  {
   "cell_type": "code",
   "execution_count": 10,
   "metadata": {
    "scrolled": false
   },
   "outputs": [
    {
     "data": {
      "text/html": [
       "<div>\n",
       "<style>\n",
       "    .dataframe thead tr:only-child th {\n",
       "        text-align: right;\n",
       "    }\n",
       "\n",
       "    .dataframe thead th {\n",
       "        text-align: left;\n",
       "    }\n",
       "\n",
       "    .dataframe tbody tr th {\n",
       "        vertical-align: top;\n",
       "    }\n",
       "</style>\n",
       "<table border=\"1\" class=\"dataframe\">\n",
       "  <thead>\n",
       "    <tr style=\"text-align: right;\">\n",
       "      <th></th>\n",
       "      <th>index</th>\n",
       "      <th>age</th>\n",
       "      <th>gender</th>\n",
       "      <th>name</th>\n",
       "      <th>status</th>\n",
       "    </tr>\n",
       "  </thead>\n",
       "  <tbody>\n",
       "    <tr>\n",
       "      <th>0</th>\n",
       "      <td>0</td>\n",
       "      <td>100</td>\n",
       "      <td>F</td>\n",
       "      <td>Tian</td>\n",
       "      <td>instructor</td>\n",
       "    </tr>\n",
       "  </tbody>\n",
       "</table>\n",
       "</div>"
      ],
      "text/plain": [
       "   index  age gender  name      status\n",
       "0      0  100      F  Tian  instructor"
      ]
     },
     "execution_count": 10,
     "metadata": {},
     "output_type": "execute_result"
    }
   ],
   "source": [
    "general_tb"
   ]
  },
  {
   "cell_type": "markdown",
   "metadata": {},
   "source": [
    "# Practice\n",
    "----\n",
    "\n"
   ]
  },
  {
   "cell_type": "markdown",
   "metadata": {},
   "source": [
    "## Collect student information in two csv files\n",
    "Load the two csv files using pandas"
   ]
  },
  {
   "cell_type": "code",
   "execution_count": 2,
   "metadata": {},
   "outputs": [
    {
     "data": {
      "text/html": [
       "<div>\n",
       "<style>\n",
       "    .dataframe thead tr:only-child th {\n",
       "        text-align: right;\n",
       "    }\n",
       "\n",
       "    .dataframe thead th {\n",
       "        text-align: left;\n",
       "    }\n",
       "\n",
       "    .dataframe tbody tr th {\n",
       "        vertical-align: top;\n",
       "    }\n",
       "</style>\n",
       "<table border=\"1\" class=\"dataframe\">\n",
       "  <thead>\n",
       "    <tr style=\"text-align: right;\">\n",
       "      <th></th>\n",
       "      <th>index</th>\n",
       "      <th>computer_language</th>\n",
       "      <th>major</th>\n",
       "      <th>role</th>\n",
       "      <th>school</th>\n",
       "    </tr>\n",
       "  </thead>\n",
       "  <tbody>\n",
       "    <tr>\n",
       "      <th>0</th>\n",
       "      <td>0</td>\n",
       "      <td>python, scala, java</td>\n",
       "      <td>Immunobiology</td>\n",
       "      <td>None</td>\n",
       "      <td>Yale</td>\n",
       "    </tr>\n",
       "    <tr>\n",
       "      <th>1</th>\n",
       "      <td>1</td>\n",
       "      <td>SAS</td>\n",
       "      <td>Actuarial Science</td>\n",
       "      <td>Developer</td>\n",
       "      <td>Boston</td>\n",
       "    </tr>\n",
       "    <tr>\n",
       "      <th>2</th>\n",
       "      <td>2</td>\n",
       "      <td>SAS python</td>\n",
       "      <td>Information Technology</td>\n",
       "      <td>Developer</td>\n",
       "      <td>UT Dallas</td>\n",
       "    </tr>\n",
       "    <tr>\n",
       "      <th>3</th>\n",
       "      <td>3</td>\n",
       "      <td>SAS</td>\n",
       "      <td>MBA</td>\n",
       "      <td>developer</td>\n",
       "      <td>UT Dallas</td>\n",
       "    </tr>\n",
       "    <tr>\n",
       "      <th>4</th>\n",
       "      <td>4</td>\n",
       "      <td>python, c</td>\n",
       "      <td>computer science</td>\n",
       "      <td>Developer</td>\n",
       "      <td>Umass</td>\n",
       "    </tr>\n",
       "    <tr>\n",
       "      <th>5</th>\n",
       "      <td>5</td>\n",
       "      <td>c++</td>\n",
       "      <td>EE, math</td>\n",
       "      <td>product owner</td>\n",
       "      <td>tech tech/UTD</td>\n",
       "    </tr>\n",
       "    <tr>\n",
       "      <th>6</th>\n",
       "      <td>6</td>\n",
       "      <td>python, R, java</td>\n",
       "      <td>computer science</td>\n",
       "      <td>Developer</td>\n",
       "      <td>UT Dallas</td>\n",
       "    </tr>\n",
       "    <tr>\n",
       "      <th>7</th>\n",
       "      <td>7</td>\n",
       "      <td>SAS, R, Python</td>\n",
       "      <td>Industrial Engineering</td>\n",
       "      <td>Developer</td>\n",
       "      <td>Texas A&amp;M</td>\n",
       "    </tr>\n",
       "  </tbody>\n",
       "</table>\n",
       "</div>"
      ],
      "text/plain": [
       "   index    computer_language                   major           role  \\\n",
       "0      0  python, scala, java           Immunobiology           None   \n",
       "1      1                  SAS       Actuarial Science      Developer   \n",
       "2      2           SAS python  Information Technology      Developer   \n",
       "3      3                  SAS                     MBA      developer   \n",
       "4      4            python, c        computer science      Developer   \n",
       "5      5                  c++                EE, math  product owner   \n",
       "6      6      python, R, java        computer science      Developer   \n",
       "7      7       SAS, R, Python  Industrial Engineering      Developer   \n",
       "\n",
       "          school  \n",
       "0           Yale  \n",
       "1         Boston  \n",
       "2      UT Dallas  \n",
       "3      UT Dallas  \n",
       "4          Umass  \n",
       "5  tech tech/UTD  \n",
       "6      UT Dallas  \n",
       "7      Texas A&M  "
      ]
     },
     "execution_count": 2,
     "metadata": {},
     "output_type": "execute_result"
    }
   ],
   "source": [
    "# general_tb = pd.read_csv(<path>)\n",
    "general_tb = pd.read_csv(\"C:/Users/chatc/Documents/GitHub/intro_to_data_science_2017/data/students/file1.csv\")\n",
    "# study_tb =pd.read_csv(<path>)\n",
    "study_tb = pd.read_csv(\"C:/Users/chatc/Documents/GitHub/intro_to_data_science_2017/data/students/file2.csv\")\n",
    "general_tb\n",
    "study_tb"
   ]
  },
  {
   "cell_type": "markdown",
   "metadata": {},
   "source": [
    "## Sort the records based on student age"
   ]
  },
  {
   "cell_type": "code",
   "execution_count": 3,
   "metadata": {},
   "outputs": [
    {
     "data": {
      "text/html": [
       "<div>\n",
       "<style>\n",
       "    .dataframe thead tr:only-child th {\n",
       "        text-align: right;\n",
       "    }\n",
       "\n",
       "    .dataframe thead th {\n",
       "        text-align: left;\n",
       "    }\n",
       "\n",
       "    .dataframe tbody tr th {\n",
       "        vertical-align: top;\n",
       "    }\n",
       "</style>\n",
       "<table border=\"1\" class=\"dataframe\">\n",
       "  <thead>\n",
       "    <tr style=\"text-align: right;\">\n",
       "      <th></th>\n",
       "      <th>index</th>\n",
       "      <th>age</th>\n",
       "      <th>gender</th>\n",
       "      <th>name</th>\n",
       "      <th>status</th>\n",
       "    </tr>\n",
       "  </thead>\n",
       "  <tbody>\n",
       "    <tr>\n",
       "      <th>4</th>\n",
       "      <td>4</td>\n",
       "      <td>23</td>\n",
       "      <td>M</td>\n",
       "      <td>Tian</td>\n",
       "      <td>student</td>\n",
       "    </tr>\n",
       "    <tr>\n",
       "      <th>7</th>\n",
       "      <td>7</td>\n",
       "      <td>24</td>\n",
       "      <td>F</td>\n",
       "      <td>Biying</td>\n",
       "      <td>student</td>\n",
       "    </tr>\n",
       "    <tr>\n",
       "      <th>1</th>\n",
       "      <td>1</td>\n",
       "      <td>25</td>\n",
       "      <td>M</td>\n",
       "      <td>Jinghua</td>\n",
       "      <td>student</td>\n",
       "    </tr>\n",
       "    <tr>\n",
       "      <th>6</th>\n",
       "      <td>6</td>\n",
       "      <td>25</td>\n",
       "      <td>M</td>\n",
       "      <td>Wenhan</td>\n",
       "      <td>student</td>\n",
       "    </tr>\n",
       "    <tr>\n",
       "      <th>2</th>\n",
       "      <td>2</td>\n",
       "      <td>27</td>\n",
       "      <td>M</td>\n",
       "      <td>Guangxi</td>\n",
       "      <td>student</td>\n",
       "    </tr>\n",
       "    <tr>\n",
       "      <th>3</th>\n",
       "      <td>3</td>\n",
       "      <td>99</td>\n",
       "      <td>F</td>\n",
       "      <td>Jing</td>\n",
       "      <td>work</td>\n",
       "    </tr>\n",
       "    <tr>\n",
       "      <th>0</th>\n",
       "      <td>0</td>\n",
       "      <td>100</td>\n",
       "      <td>F</td>\n",
       "      <td>Tian</td>\n",
       "      <td>student</td>\n",
       "    </tr>\n",
       "    <tr>\n",
       "      <th>5</th>\n",
       "      <td>5</td>\n",
       "      <td>888</td>\n",
       "      <td>F</td>\n",
       "      <td>Meryl</td>\n",
       "      <td>work</td>\n",
       "    </tr>\n",
       "  </tbody>\n",
       "</table>\n",
       "</div>"
      ],
      "text/plain": [
       "   index  age gender     name   status\n",
       "4      4   23      M     Tian  student\n",
       "7      7   24      F   Biying  student\n",
       "1      1   25      M  Jinghua  student\n",
       "6      6   25      M   Wenhan  student\n",
       "2      2   27      M  Guangxi  student\n",
       "3      3   99      F     Jing     work\n",
       "0      0  100      F     Tian  student\n",
       "5      5  888      F    Meryl     work"
      ]
     },
     "execution_count": 3,
     "metadata": {},
     "output_type": "execute_result"
    }
   ],
   "source": [
    "# http://pandas.pydata.org/pandas-docs/stable/generated/pandas.DataFrame.sort_values.html\n",
    "gs_age = general_tb.sort_values(by='age', ascending=1)\n",
    "gs_age"
   ]
  },
  {
   "cell_type": "markdown",
   "metadata": {},
   "source": [
    "## Join two tables"
   ]
  },
  {
   "cell_type": "code",
   "execution_count": 4,
   "metadata": {},
   "outputs": [
    {
     "data": {
      "text/html": [
       "<div>\n",
       "<style>\n",
       "    .dataframe thead tr:only-child th {\n",
       "        text-align: right;\n",
       "    }\n",
       "\n",
       "    .dataframe thead th {\n",
       "        text-align: left;\n",
       "    }\n",
       "\n",
       "    .dataframe tbody tr th {\n",
       "        vertical-align: top;\n",
       "    }\n",
       "</style>\n",
       "<table border=\"1\" class=\"dataframe\">\n",
       "  <thead>\n",
       "    <tr style=\"text-align: right;\">\n",
       "      <th></th>\n",
       "      <th>index</th>\n",
       "      <th>age</th>\n",
       "      <th>gender</th>\n",
       "      <th>name</th>\n",
       "      <th>status</th>\n",
       "      <th>computer_language</th>\n",
       "      <th>major</th>\n",
       "      <th>role</th>\n",
       "      <th>school</th>\n",
       "    </tr>\n",
       "  </thead>\n",
       "  <tbody>\n",
       "    <tr>\n",
       "      <th>0</th>\n",
       "      <td>0</td>\n",
       "      <td>100</td>\n",
       "      <td>F</td>\n",
       "      <td>Tian</td>\n",
       "      <td>student</td>\n",
       "      <td>python, scala, java</td>\n",
       "      <td>Immunobiology</td>\n",
       "      <td>None</td>\n",
       "      <td>Yale</td>\n",
       "    </tr>\n",
       "    <tr>\n",
       "      <th>1</th>\n",
       "      <td>1</td>\n",
       "      <td>25</td>\n",
       "      <td>M</td>\n",
       "      <td>Jinghua</td>\n",
       "      <td>student</td>\n",
       "      <td>SAS</td>\n",
       "      <td>Actuarial Science</td>\n",
       "      <td>Developer</td>\n",
       "      <td>Boston</td>\n",
       "    </tr>\n",
       "    <tr>\n",
       "      <th>2</th>\n",
       "      <td>2</td>\n",
       "      <td>27</td>\n",
       "      <td>M</td>\n",
       "      <td>Guangxi</td>\n",
       "      <td>student</td>\n",
       "      <td>SAS python</td>\n",
       "      <td>Information Technology</td>\n",
       "      <td>Developer</td>\n",
       "      <td>UT Dallas</td>\n",
       "    </tr>\n",
       "    <tr>\n",
       "      <th>3</th>\n",
       "      <td>3</td>\n",
       "      <td>99</td>\n",
       "      <td>F</td>\n",
       "      <td>Jing</td>\n",
       "      <td>work</td>\n",
       "      <td>SAS</td>\n",
       "      <td>MBA</td>\n",
       "      <td>developer</td>\n",
       "      <td>UT Dallas</td>\n",
       "    </tr>\n",
       "    <tr>\n",
       "      <th>4</th>\n",
       "      <td>4</td>\n",
       "      <td>23</td>\n",
       "      <td>M</td>\n",
       "      <td>Tian</td>\n",
       "      <td>student</td>\n",
       "      <td>python, c</td>\n",
       "      <td>computer science</td>\n",
       "      <td>Developer</td>\n",
       "      <td>Umass</td>\n",
       "    </tr>\n",
       "    <tr>\n",
       "      <th>5</th>\n",
       "      <td>5</td>\n",
       "      <td>888</td>\n",
       "      <td>F</td>\n",
       "      <td>Meryl</td>\n",
       "      <td>work</td>\n",
       "      <td>c++</td>\n",
       "      <td>EE, math</td>\n",
       "      <td>product owner</td>\n",
       "      <td>tech tech/UTD</td>\n",
       "    </tr>\n",
       "    <tr>\n",
       "      <th>6</th>\n",
       "      <td>6</td>\n",
       "      <td>25</td>\n",
       "      <td>M</td>\n",
       "      <td>Wenhan</td>\n",
       "      <td>student</td>\n",
       "      <td>python, R, java</td>\n",
       "      <td>computer science</td>\n",
       "      <td>Developer</td>\n",
       "      <td>UT Dallas</td>\n",
       "    </tr>\n",
       "    <tr>\n",
       "      <th>7</th>\n",
       "      <td>7</td>\n",
       "      <td>24</td>\n",
       "      <td>F</td>\n",
       "      <td>Biying</td>\n",
       "      <td>student</td>\n",
       "      <td>SAS, R, Python</td>\n",
       "      <td>Industrial Engineering</td>\n",
       "      <td>Developer</td>\n",
       "      <td>Texas A&amp;M</td>\n",
       "    </tr>\n",
       "  </tbody>\n",
       "</table>\n",
       "</div>"
      ],
      "text/plain": [
       "   index  age gender     name   status    computer_language  \\\n",
       "0      0  100      F     Tian  student  python, scala, java   \n",
       "1      1   25      M  Jinghua  student                  SAS   \n",
       "2      2   27      M  Guangxi  student           SAS python   \n",
       "3      3   99      F     Jing     work                  SAS   \n",
       "4      4   23      M     Tian  student            python, c   \n",
       "5      5  888      F    Meryl     work                  c++   \n",
       "6      6   25      M   Wenhan  student      python, R, java   \n",
       "7      7   24      F   Biying  student       SAS, R, Python   \n",
       "\n",
       "                    major           role         school  \n",
       "0           Immunobiology           None           Yale  \n",
       "1       Actuarial Science      Developer         Boston  \n",
       "2  Information Technology      Developer      UT Dallas  \n",
       "3                     MBA      developer      UT Dallas  \n",
       "4        computer science      Developer          Umass  \n",
       "5                EE, math  product owner  tech tech/UTD  \n",
       "6        computer science      Developer      UT Dallas  \n",
       "7  Industrial Engineering      Developer      Texas A&M  "
      ]
     },
     "execution_count": 4,
     "metadata": {},
     "output_type": "execute_result"
    }
   ],
   "source": [
    "# http://pandas.pydata.org/pandas-docs/stable/generated/pandas.DataFrame.merge.html\n",
    "tb_merge = pd.merge(general_tb, study_tb, on='index', how='left')\n",
    "tb_merge"
   ]
  },
  {
   "cell_type": "markdown",
   "metadata": {},
   "source": [
    "## Count how many Female and Male students in our class"
   ]
  },
  {
   "cell_type": "code",
   "execution_count": 14,
   "metadata": {},
   "outputs": [
    {
     "data": {
      "text/html": [
       "<div>\n",
       "<style>\n",
       "    .dataframe thead tr:only-child th {\n",
       "        text-align: right;\n",
       "    }\n",
       "\n",
       "    .dataframe thead th {\n",
       "        text-align: left;\n",
       "    }\n",
       "\n",
       "    .dataframe tbody tr th {\n",
       "        vertical-align: top;\n",
       "    }\n",
       "</style>\n",
       "<table border=\"1\" class=\"dataframe\">\n",
       "  <thead>\n",
       "    <tr style=\"text-align: right;\">\n",
       "      <th></th>\n",
       "      <th>index</th>\n",
       "      <th>age</th>\n",
       "      <th>name</th>\n",
       "      <th>status</th>\n",
       "    </tr>\n",
       "    <tr>\n",
       "      <th>gender</th>\n",
       "      <th></th>\n",
       "      <th></th>\n",
       "      <th></th>\n",
       "      <th></th>\n",
       "    </tr>\n",
       "  </thead>\n",
       "  <tbody>\n",
       "    <tr>\n",
       "      <th>F</th>\n",
       "      <td>4</td>\n",
       "      <td>4</td>\n",
       "      <td>4</td>\n",
       "      <td>4</td>\n",
       "    </tr>\n",
       "    <tr>\n",
       "      <th>M</th>\n",
       "      <td>4</td>\n",
       "      <td>4</td>\n",
       "      <td>4</td>\n",
       "      <td>4</td>\n",
       "    </tr>\n",
       "  </tbody>\n",
       "</table>\n",
       "</div>"
      ],
      "text/plain": [
       "        index  age  name  status\n",
       "gender                          \n",
       "F           4    4     4       4\n",
       "M           4    4     4       4"
      ]
     },
     "execution_count": 14,
     "metadata": {},
     "output_type": "execute_result"
    }
   ],
   "source": [
    "# http://pandas.pydata.org/pandas-docs/stable/generated/pandas.DataFrame.groupby.html\n",
    "\n",
    "general_tb.groupby('gender').count()\n"
   ]
  },
  {
   "cell_type": "markdown",
   "metadata": {},
   "source": [
    "## Find out who knows the highest number of languages"
   ]
  },
  {
   "cell_type": "code",
   "execution_count": 5,
   "metadata": {},
   "outputs": [
    {
     "data": {
      "text/plain": [
       "0      Tian\n",
       "6    Wenhan\n",
       "7    Biying\n",
       "Name: name, dtype: object"
      ]
     },
     "execution_count": 5,
     "metadata": {},
     "output_type": "execute_result"
    }
   ],
   "source": [
    "# http://pandas.pydata.org/pandas-docs/stable/generated/pandas.DataFrame.apply.html\n",
    "\n",
    "tb_merge['language_number'] = tb_merge['computer_language'].apply(lambda x: len(x.split(',')))\n",
    "\n",
    "print tb_merge[tb_merge['language_number'] == tb_merge['language_number'].max()]['name']\n",
    "\n",
    "\n",
    "\n",
    "\n"
   ]
  },
  {
   "cell_type": "markdown",
   "metadata": {
    "collapsed": true
   },
   "source": [
    "# Challenge the other team\n",
    "Think about a question for the other team that they can solve with these two tables"
   ]
  },
  {
   "cell_type": "code",
   "execution_count": null,
   "metadata": {
    "collapsed": true
   },
   "outputs": [],
   "source": []
  }
 ],
 "metadata": {
  "kernelspec": {
   "display_name": "Python 2",
   "language": "python",
   "name": "python2"
  },
  "language_info": {
   "codemirror_mode": {
    "name": "ipython",
    "version": 2
   },
   "file_extension": ".py",
   "mimetype": "text/x-python",
   "name": "python",
   "nbconvert_exporter": "python",
   "pygments_lexer": "ipython2",
   "version": "2.7.13"
  }
 },
 "nbformat": 4,
 "nbformat_minor": 2
}
